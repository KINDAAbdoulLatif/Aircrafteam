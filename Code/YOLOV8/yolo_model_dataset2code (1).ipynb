{
 "cells": [
  {
   "cell_type": "code",
   "execution_count": 5,
   "id": "3cbfaf8c-5ead-43d1-af18-ab82f0d87754",
   "metadata": {},
   "outputs": [],
   "source": [
    "from ultralytics import YOLO\n",
    "import pandas as pd\n",
    "import cv2\n",
    "import numpy as np\n",
    "import matplotlib.pyplot as plt\n",
    "%matplotlib inline\n"
   ]
  },
  {
   "cell_type": "markdown",
   "id": "48a94ddb-d48b-4d06-9007-a6f66f015ab3",
   "metadata": {},
   "source": [
    "<span style=\"font-size: 20px;\"> Splitting the data \r\n"
   ]
  },
  {
   "cell_type": "code",
   "execution_count": 4,
   "id": "8b83ba0d-05b6-4323-a1a2-e4666629e258",
   "metadata": {},
   "outputs": [],
   "source": [
    "import random\n",
    "import shutil\n",
    "import os\n",
    "\n",
    "# Define paths\n",
    "data_dir = r\"C:\\Users\\HP\\Downloads\\airplane-dataset-asoc\\airplane-dataset-trans\\data_class\"\n",
    "train_dir = r\"C:\\Users\\HP\\Downloads\\airplane-dataset-asoc\\airplane-dataset-trans\\data_class\\train\"\n",
    "val_dir = r\"C:\\Users\\HP\\Downloads\\airplane-dataset-asoc\\airplane-dataset-trans\\data_class\\val\"\n",
    "test_dir =r\"C:\\Users\\HP\\Downloads\\airplane-dataset-asoc\\airplane-dataset-trans\\data_class\\test\"\n",
    "\n",
    "\n",
    "# Create directories if not exist\n",
    "os.makedirs(train_dir, exist_ok=True)\n",
    "os.makedirs(test_dir, exist_ok=True)\n",
    "os.makedirs(val_dir, exist_ok=True)\n",
    "\n",
    "# Define the percentage split\n",
    "train_percent = 0.7\n",
    "test_percent = 0.15\n",
    "val_percent = 0.1\n",
    "\n",
    "# Iterate over class folders\n",
    "class_folders = os.listdir(data_dir)\n",
    "for class_folder in class_folders:\n",
    "    class_path = os.path.join(data_dir, class_folder)\n",
    "    if os.path.isdir(class_path):\n",
    "        # Create class directories in train, test, and val folders\n",
    "        os.makedirs(os.path.join(train_dir, class_folder), exist_ok=True)\n",
    "        os.makedirs(os.path.join(test_dir, class_folder), exist_ok=True)\n",
    "        os.makedirs(os.path.join(val_dir, class_folder), exist_ok=True)\n",
    "\n",
    "        # Get list of images in class folder\n",
    "        images = os.listdir(class_path)\n",
    "        num_images = len(images)\n",
    "\n",
    "        # Shuffle images\n",
    "        random.shuffle(images)\n",
    "\n",
    "        # Calculate split indices\n",
    "        num_train = round(num_images * train_percent)\n",
    "        num_test = round(num_images * test_percent)\n",
    "        num_val = num_images - num_train - num_test\n",
    "\n",
    "        # Split images into train, test, and val sets\n",
    "        train_images = images[:num_train]\n",
    "        test_images = images[num_train:num_train + num_test]\n",
    "        val_images = images[num_train + num_test:]\n",
    "\n",
    "        # Copy images to respective directories\n",
    "        for image in train_images:\n",
    "            src = os.path.join(class_path, image)\n",
    "            dst = os.path.join(train_dir, class_folder, image)\n",
    "            shutil.copy(src, dst)\n",
    "        for image in test_images:\n",
    "            src = os.path.join(class_path, image)\n",
    "            dst = os.path.join(test_dir, class_folder, image)\n",
    "            shutil.copy(src, dst)\n",
    "        for image in val_images:\n",
    "            src = os.path.join(class_path, image)\n",
    "            dst = os.path.join(val_dir, class_folder, image)\n",
    "            shutil.copy(src, dst)\n"
   ]
  },
  {
   "cell_type": "markdown",
   "id": "02e6a9d9-7b29-485c-bec0-649e0b278cbe",
   "metadata": {},
   "source": [
    "<span style=\"font-size: 20px;\">Classification Model : yolov8x-cls</span>\r\n"
   ]
  },
  {
   "cell_type": "code",
   "execution_count": 7,
   "id": "217b2691-f178-4f71-9055-cecbc7a45ffd",
   "metadata": {},
   "outputs": [],
   "source": [
    "model = YOLO('yolov8x-cls.pt')  # load a pretrained model (recommended for training)"
   ]
  },
  {
   "cell_type": "code",
   "execution_count": 8,
   "id": "099a4cb0-f916-4a10-b944-ea561b7527c5",
   "metadata": {},
   "outputs": [
    {
     "name": "stdout",
     "output_type": "stream",
     "text": [
      "New https://pypi.org/project/ultralytics/8.2.10 available  Update with 'pip install -U ultralytics'\n",
      "Ultralytics YOLOv8.1.42  Python-3.11.7 torch-2.2.2+cpu CPU (11th Gen Intel Core(TM) i7-1165G7 2.80GHz)\n",
      "\u001b[34m\u001b[1mengine\\trainer: \u001b[0mtask=classify, mode=train, model=yolov8x-cls.pt, data=C:\\Users\\HP\\Downloads\\airplane-dataset-asoc\\airplane-dataset-trans\\data_class, epochs=25, time=None, patience=100, batch=16, imgsz=64, save=True, save_period=-1, cache=False, device=None, workers=8, project=None, name=train37, exist_ok=False, pretrained=True, optimizer=auto, verbose=True, seed=0, deterministic=True, single_cls=False, rect=False, cos_lr=False, close_mosaic=10, resume=False, amp=True, fraction=1.0, profile=False, freeze=None, multi_scale=False, overlap_mask=True, mask_ratio=4, dropout=0.0, val=True, split=val, save_json=False, save_hybrid=False, conf=None, iou=0.7, max_det=300, half=False, dnn=False, plots=True, source=None, vid_stride=1, stream_buffer=False, visualize=False, augment=False, agnostic_nms=False, classes=None, retina_masks=False, embed=None, show=False, save_frames=False, save_txt=False, save_conf=False, save_crop=False, show_labels=True, show_conf=True, show_boxes=True, line_width=None, format=torchscript, keras=False, optimize=False, int8=False, dynamic=False, simplify=False, opset=None, workspace=4, nms=False, lr0=0.01, lrf=0.001, momentum=0.937, weight_decay=0.0005, warmup_epochs=3.0, warmup_momentum=0.8, warmup_bias_lr=0.1, box=7.5, cls=0.5, dfl=1.5, pose=12.0, kobj=1.0, label_smoothing=0.0, nbs=64, hsv_h=0.015, hsv_s=0.7, hsv_v=0.4, degrees=0.0, translate=0.1, scale=0.5, shear=0.0, perspective=0.0, flipud=0.0, fliplr=0.5, bgr=0.0, mosaic=1.0, mixup=0.0, copy_paste=0.0, auto_augment=randaugment, erasing=0.4, crop_fraction=1.0, cfg=None, tracker=botsort.yaml, save_dir=runs\\classify\\train37\n",
      "\u001b[34m\u001b[1mtrain:\u001b[0m C:\\Users\\HP\\Downloads\\airplane-dataset-asoc\\airplane-dataset-trans\\data_class\\train... found 6313 images in 20 classes  \n",
      "\u001b[34m\u001b[1mval:\u001b[0m C:\\Users\\HP\\Downloads\\airplane-dataset-asoc\\airplane-dataset-trans\\data_class\\val... found 1354 images in 20 classes  \n",
      "\u001b[34m\u001b[1mtest:\u001b[0m C:\\Users\\HP\\Downloads\\airplane-dataset-asoc\\airplane-dataset-trans\\data_class\\test... found 1353 images in 20 classes  \n",
      "Overriding model.yaml nc=1000 with nc=20\n",
      "\n",
      "                   from  n    params  module                                       arguments                     \n",
      "  0                  -1  1      2320  ultralytics.nn.modules.conv.Conv             [3, 80, 3, 2]                 \n",
      "  1                  -1  1    115520  ultralytics.nn.modules.conv.Conv             [80, 160, 3, 2]               \n",
      "  2                  -1  3    436800  ultralytics.nn.modules.block.C2f             [160, 160, 3, True]           \n",
      "  3                  -1  1    461440  ultralytics.nn.modules.conv.Conv             [160, 320, 3, 2]              \n",
      "  4                  -1  6   3281920  ultralytics.nn.modules.block.C2f             [320, 320, 6, True]           \n",
      "  5                  -1  1   1844480  ultralytics.nn.modules.conv.Conv             [320, 640, 3, 2]              \n",
      "  6                  -1  6  13117440  ultralytics.nn.modules.block.C2f             [640, 640, 6, True]           \n",
      "  7                  -1  1   7375360  ultralytics.nn.modules.conv.Conv             [640, 1280, 3, 2]             \n",
      "  8                  -1  3  27865600  ultralytics.nn.modules.block.C2f             [1280, 1280, 3, True]         \n",
      "  9                  -1  1   1666580  ultralytics.nn.modules.head.Classify         [1280, 20]                    \n",
      "YOLOv8x-cls summary: 183 layers, 56167460 parameters, 56167460 gradients, 154.3 GFLOPs\n",
      "Transferred 300/302 items from pretrained weights\n",
      "\u001b[34m\u001b[1mTensorBoard: \u001b[0mStart with 'tensorboard --logdir runs\\classify\\train37', view at http://localhost:6006/\n"
     ]
    },
    {
     "name": "stderr",
     "output_type": "stream",
     "text": [
      "\u001b[34m\u001b[1mtrain: \u001b[0mScanning C:\\Users\\HP\\Downloads\\airplane-dataset-asoc\\airplane-dataset-trans\\data_class\\train... 6313 images, 0 corrupt: 100%|██████████| 6313/6313 [00:07<00:00, 891.10it/s] \n"
     ]
    },
    {
     "name": "stdout",
     "output_type": "stream",
     "text": [
      "\u001b[34m\u001b[1mtrain: \u001b[0mNew cache created: C:\\Users\\HP\\Downloads\\airplane-dataset-asoc\\airplane-dataset-trans\\data_class\\train.cache\n"
     ]
    },
    {
     "name": "stderr",
     "output_type": "stream",
     "text": [
      "\u001b[34m\u001b[1mval: \u001b[0mScanning C:\\Users\\HP\\Downloads\\airplane-dataset-asoc\\airplane-dataset-trans\\data_class\\val... 1354 images, 0 corrupt: 100%|██████████| 1354/1354 [00:01<00:00, 848.34it/s]"
     ]
    },
    {
     "name": "stdout",
     "output_type": "stream",
     "text": [
      "\u001b[34m\u001b[1mval: \u001b[0mNew cache created: C:\\Users\\HP\\Downloads\\airplane-dataset-asoc\\airplane-dataset-trans\\data_class\\val.cache\n"
     ]
    },
    {
     "name": "stderr",
     "output_type": "stream",
     "text": [
      "\n"
     ]
    },
    {
     "name": "stdout",
     "output_type": "stream",
     "text": [
      "\u001b[34m\u001b[1moptimizer:\u001b[0m 'optimizer=auto' found, ignoring 'lr0=0.01' and 'momentum=0.937' and determining best 'optimizer', 'lr0' and 'momentum' automatically... \n",
      "\u001b[34m\u001b[1moptimizer:\u001b[0m AdamW(lr=0.000714, momentum=0.9) with parameter groups 50 weight(decay=0.0), 51 weight(decay=0.0005), 51 bias(decay=0.0)\n",
      "\u001b[34m\u001b[1mTensorBoard: \u001b[0mmodel graph visualization added \n",
      "Image sizes 64 train, 64 val\n",
      "Using 0 dataloader workers\n",
      "Logging results to \u001b[1mruns\\classify\\train37\u001b[0m\n",
      "Starting training for 25 epochs...\n",
      "\n",
      "      Epoch    GPU_mem       loss  Instances       Size\n"
     ]
    },
    {
     "name": "stderr",
     "output_type": "stream",
     "text": [
      "       1/25         0G      2.361          9         64: 100%|██████████| 395/395 [09:31<00:00,  1.45s/it]\n",
      "               classes   top1_acc   top5_acc: 100%|██████████| 43/43 [00:23<00:00,  1.84it/s]"
     ]
    },
    {
     "name": "stdout",
     "output_type": "stream",
     "text": [
      "                   all      0.761      0.965\n"
     ]
    },
    {
     "name": "stderr",
     "output_type": "stream",
     "text": [
      "\n"
     ]
    },
    {
     "name": "stdout",
     "output_type": "stream",
     "text": [
      "\n",
      "      Epoch    GPU_mem       loss  Instances       Size\n"
     ]
    },
    {
     "name": "stderr",
     "output_type": "stream",
     "text": [
      "       2/25         0G      0.982          9         64: 100%|██████████| 395/395 [07:21<00:00,  1.12s/it]\n",
      "               classes   top1_acc   top5_acc: 100%|██████████| 43/43 [00:18<00:00,  2.33it/s]"
     ]
    },
    {
     "name": "stdout",
     "output_type": "stream",
     "text": [
      "                   all      0.885      0.998\n"
     ]
    },
    {
     "name": "stderr",
     "output_type": "stream",
     "text": [
      "\n"
     ]
    },
    {
     "name": "stdout",
     "output_type": "stream",
     "text": [
      "\n",
      "      Epoch    GPU_mem       loss  Instances       Size\n"
     ]
    },
    {
     "name": "stderr",
     "output_type": "stream",
     "text": [
      "       3/25         0G     0.7332          9         64: 100%|██████████| 395/395 [06:17<00:00,  1.05it/s]\n",
      "               classes   top1_acc   top5_acc: 100%|██████████| 43/43 [00:18<00:00,  2.33it/s]"
     ]
    },
    {
     "name": "stdout",
     "output_type": "stream",
     "text": [
      "                   all      0.887      0.996\n"
     ]
    },
    {
     "name": "stderr",
     "output_type": "stream",
     "text": [
      "\n"
     ]
    },
    {
     "name": "stdout",
     "output_type": "stream",
     "text": [
      "\n",
      "      Epoch    GPU_mem       loss  Instances       Size\n"
     ]
    },
    {
     "name": "stderr",
     "output_type": "stream",
     "text": [
      "       4/25         0G     0.6698          9         64: 100%|██████████| 395/395 [06:44<00:00,  1.02s/it]\n",
      "               classes   top1_acc   top5_acc: 100%|██████████| 43/43 [00:19<00:00,  2.23it/s]"
     ]
    },
    {
     "name": "stdout",
     "output_type": "stream",
     "text": [
      "                   all      0.916      0.999\n"
     ]
    },
    {
     "name": "stderr",
     "output_type": "stream",
     "text": [
      "\n"
     ]
    },
    {
     "name": "stdout",
     "output_type": "stream",
     "text": [
      "\n",
      "      Epoch    GPU_mem       loss  Instances       Size\n"
     ]
    },
    {
     "name": "stderr",
     "output_type": "stream",
     "text": [
      "       5/25         0G      0.592          9         64: 100%|██████████| 395/395 [05:53<00:00,  1.12it/s]\n",
      "               classes   top1_acc   top5_acc: 100%|██████████| 43/43 [00:19<00:00,  2.22it/s]"
     ]
    },
    {
     "name": "stdout",
     "output_type": "stream",
     "text": [
      "                   all      0.929      0.998\n"
     ]
    },
    {
     "name": "stderr",
     "output_type": "stream",
     "text": [
      "\n"
     ]
    },
    {
     "name": "stdout",
     "output_type": "stream",
     "text": [
      "\n",
      "      Epoch    GPU_mem       loss  Instances       Size\n"
     ]
    },
    {
     "name": "stderr",
     "output_type": "stream",
     "text": [
      "       6/25         0G     0.5254          9         64: 100%|██████████| 395/395 [06:25<00:00,  1.02it/s]\n",
      "               classes   top1_acc   top5_acc: 100%|██████████| 43/43 [00:18<00:00,  2.38it/s]"
     ]
    },
    {
     "name": "stdout",
     "output_type": "stream",
     "text": [
      "                   all      0.942      0.999\n"
     ]
    },
    {
     "name": "stderr",
     "output_type": "stream",
     "text": [
      "\n"
     ]
    },
    {
     "name": "stdout",
     "output_type": "stream",
     "text": [
      "\n",
      "      Epoch    GPU_mem       loss  Instances       Size\n"
     ]
    },
    {
     "name": "stderr",
     "output_type": "stream",
     "text": [
      "       7/25         0G     0.4653          9         64: 100%|██████████| 395/395 [06:21<00:00,  1.03it/s]\n",
      "               classes   top1_acc   top5_acc: 100%|██████████| 43/43 [00:18<00:00,  2.38it/s]"
     ]
    },
    {
     "name": "stdout",
     "output_type": "stream",
     "text": [
      "                   all      0.937      0.999\n"
     ]
    },
    {
     "name": "stderr",
     "output_type": "stream",
     "text": [
      "\n"
     ]
    },
    {
     "name": "stdout",
     "output_type": "stream",
     "text": [
      "\n",
      "      Epoch    GPU_mem       loss  Instances       Size\n"
     ]
    },
    {
     "name": "stderr",
     "output_type": "stream",
     "text": [
      "       8/25         0G     0.4096          9         64: 100%|██████████| 395/395 [05:51<00:00,  1.12it/s]\n",
      "               classes   top1_acc   top5_acc: 100%|██████████| 43/43 [00:18<00:00,  2.28it/s]"
     ]
    },
    {
     "name": "stdout",
     "output_type": "stream",
     "text": [
      "                   all      0.939      0.999\n"
     ]
    },
    {
     "name": "stderr",
     "output_type": "stream",
     "text": [
      "\n"
     ]
    },
    {
     "name": "stdout",
     "output_type": "stream",
     "text": [
      "\n",
      "      Epoch    GPU_mem       loss  Instances       Size\n"
     ]
    },
    {
     "name": "stderr",
     "output_type": "stream",
     "text": [
      "       9/25         0G     0.3566          9         64: 100%|██████████| 395/395 [06:13<00:00,  1.06it/s]\n",
      "               classes   top1_acc   top5_acc: 100%|██████████| 43/43 [00:17<00:00,  2.42it/s]"
     ]
    },
    {
     "name": "stdout",
     "output_type": "stream",
     "text": [
      "                   all       0.95      0.999\n"
     ]
    },
    {
     "name": "stderr",
     "output_type": "stream",
     "text": [
      "\n"
     ]
    },
    {
     "name": "stdout",
     "output_type": "stream",
     "text": [
      "\n",
      "      Epoch    GPU_mem       loss  Instances       Size\n"
     ]
    },
    {
     "name": "stderr",
     "output_type": "stream",
     "text": [
      "      10/25         0G     0.3378          9         64: 100%|██████████| 395/395 [06:24<00:00,  1.03it/s]\n",
      "               classes   top1_acc   top5_acc: 100%|██████████| 43/43 [00:18<00:00,  2.34it/s]"
     ]
    },
    {
     "name": "stdout",
     "output_type": "stream",
     "text": [
      "                   all      0.957          1\n"
     ]
    },
    {
     "name": "stderr",
     "output_type": "stream",
     "text": [
      "\n"
     ]
    },
    {
     "name": "stdout",
     "output_type": "stream",
     "text": [
      "\n",
      "      Epoch    GPU_mem       loss  Instances       Size\n"
     ]
    },
    {
     "name": "stderr",
     "output_type": "stream",
     "text": [
      "      11/25         0G     0.2999          9         64: 100%|██████████| 395/395 [06:49<00:00,  1.04s/it]\n",
      "               classes   top1_acc   top5_acc: 100%|██████████| 43/43 [00:21<00:00,  2.01it/s]"
     ]
    },
    {
     "name": "stdout",
     "output_type": "stream",
     "text": [
      "                   all       0.96      0.999\n"
     ]
    },
    {
     "name": "stderr",
     "output_type": "stream",
     "text": [
      "\n"
     ]
    },
    {
     "name": "stdout",
     "output_type": "stream",
     "text": [
      "\n",
      "      Epoch    GPU_mem       loss  Instances       Size\n"
     ]
    },
    {
     "name": "stderr",
     "output_type": "stream",
     "text": [
      "      12/25         0G     0.2847          9         64: 100%|██████████| 395/395 [06:32<00:00,  1.01it/s]\n",
      "               classes   top1_acc   top5_acc: 100%|██████████| 43/43 [00:16<00:00,  2.57it/s]"
     ]
    },
    {
     "name": "stdout",
     "output_type": "stream",
     "text": [
      "                   all      0.953          1\n"
     ]
    },
    {
     "name": "stderr",
     "output_type": "stream",
     "text": [
      "\n"
     ]
    },
    {
     "name": "stdout",
     "output_type": "stream",
     "text": [
      "\n",
      "      Epoch    GPU_mem       loss  Instances       Size\n"
     ]
    },
    {
     "name": "stderr",
     "output_type": "stream",
     "text": [
      "      13/25         0G      0.262          9         64: 100%|██████████| 395/395 [05:57<00:00,  1.11it/s]\n",
      "               classes   top1_acc   top5_acc: 100%|██████████| 43/43 [00:17<00:00,  2.40it/s]"
     ]
    },
    {
     "name": "stdout",
     "output_type": "stream",
     "text": [
      "                   all      0.967      0.999\n"
     ]
    },
    {
     "name": "stderr",
     "output_type": "stream",
     "text": [
      "\n"
     ]
    },
    {
     "name": "stdout",
     "output_type": "stream",
     "text": [
      "\n",
      "      Epoch    GPU_mem       loss  Instances       Size\n"
     ]
    },
    {
     "name": "stderr",
     "output_type": "stream",
     "text": [
      "      14/25         0G      0.227          9         64: 100%|██████████| 395/395 [05:58<00:00,  1.10it/s]\n",
      "               classes   top1_acc   top5_acc: 100%|██████████| 43/43 [00:19<00:00,  2.21it/s]"
     ]
    },
    {
     "name": "stdout",
     "output_type": "stream",
     "text": [
      "                   all       0.96      0.999\n"
     ]
    },
    {
     "name": "stderr",
     "output_type": "stream",
     "text": [
      "\n"
     ]
    },
    {
     "name": "stdout",
     "output_type": "stream",
     "text": [
      "\n",
      "      Epoch    GPU_mem       loss  Instances       Size\n"
     ]
    },
    {
     "name": "stderr",
     "output_type": "stream",
     "text": [
      "      15/25         0G     0.2267          9         64: 100%|██████████| 395/395 [06:13<00:00,  1.06it/s]\n",
      "               classes   top1_acc   top5_acc: 100%|██████████| 43/43 [00:25<00:00,  1.68it/s]"
     ]
    },
    {
     "name": "stdout",
     "output_type": "stream",
     "text": [
      "                   all      0.963      0.999\n"
     ]
    },
    {
     "name": "stderr",
     "output_type": "stream",
     "text": [
      "\n"
     ]
    },
    {
     "name": "stdout",
     "output_type": "stream",
     "text": [
      "\n",
      "      Epoch    GPU_mem       loss  Instances       Size\n"
     ]
    },
    {
     "name": "stderr",
     "output_type": "stream",
     "text": [
      "      16/25         0G     0.2202          9         64: 100%|██████████| 395/395 [06:24<00:00,  1.03it/s]\n",
      "               classes   top1_acc   top5_acc: 100%|██████████| 43/43 [00:20<00:00,  2.13it/s]"
     ]
    },
    {
     "name": "stdout",
     "output_type": "stream",
     "text": [
      "                   all      0.959      0.999\n"
     ]
    },
    {
     "name": "stderr",
     "output_type": "stream",
     "text": [
      "\n"
     ]
    },
    {
     "name": "stdout",
     "output_type": "stream",
     "text": [
      "\n",
      "      Epoch    GPU_mem       loss  Instances       Size\n"
     ]
    },
    {
     "name": "stderr",
     "output_type": "stream",
     "text": [
      "      17/25         0G     0.2094          9         64: 100%|██████████| 395/395 [06:27<00:00,  1.02it/s]\n",
      "               classes   top1_acc   top5_acc: 100%|██████████| 43/43 [00:20<00:00,  2.08it/s]"
     ]
    },
    {
     "name": "stdout",
     "output_type": "stream",
     "text": [
      "                   all       0.96          1\n"
     ]
    },
    {
     "name": "stderr",
     "output_type": "stream",
     "text": [
      "\n"
     ]
    },
    {
     "name": "stdout",
     "output_type": "stream",
     "text": [
      "\n",
      "      Epoch    GPU_mem       loss  Instances       Size\n"
     ]
    },
    {
     "name": "stderr",
     "output_type": "stream",
     "text": [
      "      18/25         0G     0.1878          9         64: 100%|██████████| 395/395 [06:34<00:00,  1.00it/s]\n",
      "               classes   top1_acc   top5_acc: 100%|██████████| 43/43 [00:20<00:00,  2.14it/s]"
     ]
    },
    {
     "name": "stdout",
     "output_type": "stream",
     "text": [
      "                   all      0.971          1\n"
     ]
    },
    {
     "name": "stderr",
     "output_type": "stream",
     "text": [
      "\n"
     ]
    },
    {
     "name": "stdout",
     "output_type": "stream",
     "text": [
      "\n",
      "      Epoch    GPU_mem       loss  Instances       Size\n"
     ]
    },
    {
     "name": "stderr",
     "output_type": "stream",
     "text": [
      "      19/25         0G     0.1814          9         64: 100%|██████████| 395/395 [06:13<00:00,  1.06it/s]\n",
      "               classes   top1_acc   top5_acc: 100%|██████████| 43/43 [00:18<00:00,  2.31it/s]"
     ]
    },
    {
     "name": "stdout",
     "output_type": "stream",
     "text": [
      "                   all      0.964      0.999\n"
     ]
    },
    {
     "name": "stderr",
     "output_type": "stream",
     "text": [
      "\n"
     ]
    },
    {
     "name": "stdout",
     "output_type": "stream",
     "text": [
      "\n",
      "      Epoch    GPU_mem       loss  Instances       Size\n"
     ]
    },
    {
     "name": "stderr",
     "output_type": "stream",
     "text": [
      "      20/25         0G     0.1757          9         64: 100%|██████████| 395/395 [10:04<00:00,  1.53s/it]\n",
      "               classes   top1_acc   top5_acc: 100%|██████████| 43/43 [00:44<00:00,  1.03s/it]"
     ]
    },
    {
     "name": "stdout",
     "output_type": "stream",
     "text": [
      "                   all      0.973      0.999\n"
     ]
    },
    {
     "name": "stderr",
     "output_type": "stream",
     "text": [
      "\n"
     ]
    },
    {
     "name": "stdout",
     "output_type": "stream",
     "text": [
      "\n",
      "      Epoch    GPU_mem       loss  Instances       Size\n"
     ]
    },
    {
     "name": "stderr",
     "output_type": "stream",
     "text": [
      "      21/25         0G     0.1566          9         64: 100%|██████████| 395/395 [11:50<00:00,  1.80s/it]\n",
      "               classes   top1_acc   top5_acc: 100%|██████████| 43/43 [00:43<00:00,  1.02s/it]"
     ]
    },
    {
     "name": "stdout",
     "output_type": "stream",
     "text": [
      "                   all       0.97          1\n"
     ]
    },
    {
     "name": "stderr",
     "output_type": "stream",
     "text": [
      "\n"
     ]
    },
    {
     "name": "stdout",
     "output_type": "stream",
     "text": [
      "\n",
      "      Epoch    GPU_mem       loss  Instances       Size\n"
     ]
    },
    {
     "name": "stderr",
     "output_type": "stream",
     "text": [
      "      22/25         0G     0.1444          9         64: 100%|██████████| 395/395 [12:41<00:00,  1.93s/it]\n",
      "               classes   top1_acc   top5_acc: 100%|██████████| 43/43 [00:43<00:00,  1.01s/it]"
     ]
    },
    {
     "name": "stdout",
     "output_type": "stream",
     "text": [
      "                   all      0.972          1\n"
     ]
    },
    {
     "name": "stderr",
     "output_type": "stream",
     "text": [
      "\n"
     ]
    },
    {
     "name": "stdout",
     "output_type": "stream",
     "text": [
      "\n",
      "      Epoch    GPU_mem       loss  Instances       Size\n"
     ]
    },
    {
     "name": "stderr",
     "output_type": "stream",
     "text": [
      "      23/25         0G     0.1456          9         64: 100%|██████████| 395/395 [12:55<00:00,  1.96s/it]\n",
      "               classes   top1_acc   top5_acc: 100%|██████████| 43/43 [00:43<00:00,  1.01s/it]"
     ]
    },
    {
     "name": "stdout",
     "output_type": "stream",
     "text": [
      "                   all      0.965      0.999\n"
     ]
    },
    {
     "name": "stderr",
     "output_type": "stream",
     "text": [
      "\n"
     ]
    },
    {
     "name": "stdout",
     "output_type": "stream",
     "text": [
      "\n",
      "      Epoch    GPU_mem       loss  Instances       Size\n"
     ]
    },
    {
     "name": "stderr",
     "output_type": "stream",
     "text": [
      "      24/25         0G     0.1493          9         64: 100%|██████████| 395/395 [13:16<00:00,  2.02s/it]\n",
      "               classes   top1_acc   top5_acc: 100%|██████████| 43/43 [00:41<00:00,  1.05it/s]"
     ]
    },
    {
     "name": "stdout",
     "output_type": "stream",
     "text": [
      "                   all      0.967      0.999\n"
     ]
    },
    {
     "name": "stderr",
     "output_type": "stream",
     "text": [
      "\n"
     ]
    },
    {
     "name": "stdout",
     "output_type": "stream",
     "text": [
      "\n",
      "      Epoch    GPU_mem       loss  Instances       Size\n"
     ]
    },
    {
     "name": "stderr",
     "output_type": "stream",
     "text": [
      "      25/25         0G     0.1393          9         64: 100%|██████████| 395/395 [12:54<00:00,  1.96s/it]\n",
      "               classes   top1_acc   top5_acc: 100%|██████████| 43/43 [00:41<00:00,  1.04it/s]"
     ]
    },
    {
     "name": "stdout",
     "output_type": "stream",
     "text": [
      "                   all      0.964      0.999\n"
     ]
    },
    {
     "name": "stderr",
     "output_type": "stream",
     "text": [
      "\n"
     ]
    },
    {
     "name": "stdout",
     "output_type": "stream",
     "text": [
      "\n",
      "25 epochs completed in 3.500 hours.\n",
      "Optimizer stripped from runs\\classify\\train37\\weights\\last.pt, 112.5MB\n",
      "Optimizer stripped from runs\\classify\\train37\\weights\\best.pt, 112.5MB\n",
      "\n",
      "Validating runs\\classify\\train37\\weights\\best.pt...\n",
      "Ultralytics YOLOv8.1.42  Python-3.11.7 torch-2.2.2+cpu CPU (11th Gen Intel Core(TM) i7-1165G7 2.80GHz)\n",
      "YOLOv8x-cls summary (fused): 133 layers, 56148820 parameters, 0 gradients, 153.8 GFLOPs\n",
      "\u001b[34m\u001b[1mtrain:\u001b[0m C:\\Users\\HP\\Downloads\\airplane-dataset-asoc\\airplane-dataset-trans\\data_class\\train... found 6313 images in 20 classes  \n",
      "\u001b[34m\u001b[1mval:\u001b[0m C:\\Users\\HP\\Downloads\\airplane-dataset-asoc\\airplane-dataset-trans\\data_class\\val... found 1354 images in 20 classes  \n",
      "\u001b[34m\u001b[1mtest:\u001b[0m C:\\Users\\HP\\Downloads\\airplane-dataset-asoc\\airplane-dataset-trans\\data_class\\test... found 1353 images in 20 classes  \n"
     ]
    },
    {
     "name": "stderr",
     "output_type": "stream",
     "text": [
      "               classes   top1_acc   top5_acc: 100%|██████████| 43/43 [00:37<00:00,  1.15it/s]\n"
     ]
    },
    {
     "name": "stdout",
     "output_type": "stream",
     "text": [
      "                   all      0.972          1\n",
      "Speed: 0.0ms preprocess, 24.0ms inference, 0.0ms loss, 0.0ms postprocess per image\n",
      "Results saved to \u001b[1mruns\\classify\\train37\u001b[0m\n",
      "Results saved to \u001b[1mruns\\classify\\train37\u001b[0m\n"
     ]
    }
   ],
   "source": [
    "results = model.train(data=r\"C:\\Users\\HP\\Downloads\\airplane-dataset-asoc\\airplane-dataset-trans\\data_class\", epochs=25, imgsz=64,lr0=0.01,lrf=0.001)"
   ]
  },
  {
   "cell_type": "markdown",
   "id": "31a4e4da-0819-407c-9317-32090a996a71",
   "metadata": {},
   "source": [
    "<span style=\"font-size: 20px;\">Model evaluation </span>\r\n"
   ]
  },
  {
   "cell_type": "code",
   "execution_count": 12,
   "id": "1e0b839e-da7a-44b2-86a5-c5669552f8d7",
   "metadata": {},
   "outputs": [
    {
     "data": {
      "image/png": "[encoded data removed]",
      "text/plain": [
       "<Figure size 640x480 with 1 Axes>"
      ]
     },
     "metadata": {},
     "output_type": "display_data"
    },
    {
     "data": {
      "image/png": "[encoded data removed]",
      "text/plain": [
       "<Figure size 640x480 with 1 Axes>"
      ]
     },
     "metadata": {},
     "output_type": "display_data"
    }
   ],
   "source": [
    "# Assuming 'results.csv' is in the same directory as this script\n",
    "results_path = r\"C:\\Users\\HP\\Downloads\\runs\\classify\\train37\\results.csv\"\n",
    "\n",
    "# Read the CSV file\n",
    "results = pd.read_csv(r\"C:\\Users\\HP\\Downloads\\runs\\classify\\train37\\results.csv\")\n",
    "\n",
    "# Plot loss vs epochs\n",
    "plt.figure()\n",
    "plt.plot(results['epoch'], results['train/loss'], label='train loss')\n",
    "plt.plot(results['epoch'], results['val/loss'], label='val loss', c='red')\n",
    "plt.grid()\n",
    "plt.title('Loss vs epochs')\n",
    "plt.ylabel('loss')\n",
    "plt.xlabel('epochs')\n",
    "plt.legend()\n",
    "\n",
    "# Plot validation accuracy vs epochs\n",
    "plt.figure()\n",
    "plt.plot(results['epoch'], results['metrics/accuracy_top1'] * 100)\n",
    "plt.grid()\n",
    "plt.title('Validation accuracy vs epochs')\n",
    "plt.ylabel('accuracy (%)')\n",
    "plt.xlabel('epochs')\n",
    "\n",
    "plt.show()\n"
   ]
  },
  {
   "cell_type": "code",
   "execution_count": 14,
   "id": "7aca450d-27ba-4017-9196-1313c0bc2f7d",
   "metadata": {},
   "outputs": [
    {
     "name": "stdout",
     "output_type": "stream",
     "text": [
      "Ultralytics YOLOv8.1.42  Python-3.11.7 torch-2.2.2+cpu CPU (11th Gen Intel Core(TM) i7-1165G7 2.80GHz)\n",
      "YOLOv8x-cls summary (fused): 133 layers, 56148820 parameters, 0 gradients, 153.8 GFLOPs\n",
      "\u001b[34m\u001b[1mtrain:\u001b[0m C:\\Users\\HP\\Downloads\\airplane-dataset-asoc\\airplane-dataset-trans\\data_class\\train... found 6313 images in 20 classes  \n",
      "\u001b[34m\u001b[1mval:\u001b[0m C:\\Users\\HP\\Downloads\\airplane-dataset-asoc\\airplane-dataset-trans\\data_class\\val... found 1354 images in 20 classes  \n",
      "\u001b[34m\u001b[1mtest:\u001b[0m C:\\Users\\HP\\Downloads\\airplane-dataset-asoc\\airplane-dataset-trans\\data_class\\test... found 1353 images in 20 classes  \n"
     ]
    },
    {
     "name": "stderr",
     "output_type": "stream",
     "text": [
      "\u001b[34m\u001b[1mval: \u001b[0mScanning C:\\Users\\HP\\Downloads\\airplane-dataset-asoc\\airplane-dataset-trans\\data_class\\val... 1354 images, 0 corrupt: 100%|██████████| 1354/1354 [00:00<?, ?it/s]\n",
      "               classes   top1_acc   top5_acc: 100%|██████████| 85/85 [00:16<00:00,  5.06it/s]\n"
     ]
    },
    {
     "name": "stdout",
     "output_type": "stream",
     "text": [
      "                   all      0.964      0.999\n",
      "Speed: 0.0ms preprocess, 10.1ms inference, 0.0ms loss, 0.0ms postprocess per image\n",
      "Results saved to \u001b[1mruns\\classify\\val8\u001b[0m\n"
     ]
    },
    {
     "data": {
      "text/plain": [
       "0.9992614388465881"
      ]
     },
     "execution_count": 14,
     "metadata": {},
     "output_type": "execute_result"
    }
   ],
   "source": [
    "model = YOLO(r\"C:\\Users\\HP\\Downloads\\runs\\classify\\train37\\weights\\last.pt\")  # load a custom model\n",
    "\n",
    "# Validate the model\n",
    "metrics = model.val()  # no arguments needed, dataset and settings remembered\n",
    "metrics.top1   # top1 accuracy\n",
    "metrics.top5   # top5 accuracy"
   ]
  },
  {
   "cell_type": "markdown",
   "id": "c8e6c24d-3c00-4821-a3aa-da3d3ef67c6b",
   "metadata": {},
   "source": [
    " <span style=\"font-size: 20px;\">Using the model for prediction</span>\r\n"
   ]
  },
  {
   "cell_type": "code",
   "execution_count": 13,
   "id": "23332a06-15b8-4e64-84aa-a9901af776e6",
   "metadata": {},
   "outputs": [
    {
     "name": "stdout",
     "output_type": "stream",
     "text": [
      "\n",
      "image 1/1 C:\\Users\\HP\\Downloads\\be200.jpg: 64x64 type-16(A-26) 0.70, type-17(P-63) 0.14, C-130 0.13, C-135 0.00, type-15(A-10) 0.00, 62.5ms\n",
      "Speed: 53.9ms preprocess, 62.5ms inference, 0.0ms postprocess per image at shape (1, 3, 64, 64)\n",
      "{0: 'B-1', 1: 'B-2', 2: 'B-52', 3: 'C-130', 4: 'C-135', 5: 'C-17', 6: 'C-5', 7: 'E-3', 8: 'F-22', 9: 'KC-10', 10: 'type-12(C-21)', 11: 'type-13(U-2)', 12: 'type-14(F-22)', 13: 'type-15(A-10)', 14: 'type-16(A-26)', 15: 'type-17(P-63)', 16: 'type-18(F-16)', 17: 'type-19(T-6)', 18: 'type-20(B-29)', 19: 'type-21(t-43)'}\n",
      "[0.0004857134772464633, 0.0006870435900054872, 0.0013582177925854921, 0.13352960348129272, 0.003791063092648983, 0.002492307685315609, 0.0005531042697839439, 0.00047686570906080306, 0.0008343270164914429, 0.0016718661645427346, 0.0004250391211826354, 0.0022534707095474005, 0.00045257393503561616, 0.002711304696276784, 0.702555775642395, 0.14324402809143066, 0.00047893531154841185, 0.0001998720836127177, 0.0006360004772432148, 0.0011629274813458323]\n",
      "type-16(A-26)\n",
      "14 %\n"
     ]
    }
   ],
   "source": [
    "model = YOLO(r\"C:\\Users\\HP\\Downloads\\runs\\classify\\train37\\weights\\last.pt\")  # load a custom model\n",
    "\n",
    "results = model(r\"C:\\Users\\HP\\Downloads\\be200.jpg\")  # predict on an image\n",
    "\n",
    "names_dict = results[0].names\n",
    "\n",
    "probs = results[0].probs.data.tolist()\n",
    "\n",
    "print(names_dict)\n",
    "confidence = np.argmax(probs)\n",
    "print(probs)\n",
    "\n",
    "print(names_dict[confidence])\n",
    "print(confidence,\"%\")"
   ]
  },
  {
   "cell_type": "code",
   "execution_count": 15,
   "id": "0e63d74e-716f-48e0-b752-aa747eb82ae9",
   "metadata": {},
   "outputs": [
    {
     "name": "stdout",
     "output_type": "stream",
     "text": [
      "\n",
      "0: 64x64 type-16(A-26) 0.70, type-17(P-63) 0.14, C-130 0.13, C-135 0.00, type-15(A-10) 0.00, 45.7ms\n",
      "Speed: 15.6ms preprocess, 45.7ms inference, 0.0ms postprocess per image at shape (1, 3, 64, 64)\n"
     ]
    }
   ],
   "source": [
    "# Load the image (replace with your actual image path)\n",
    "img = cv2.imread(r\"C:\\Users\\HP\\Downloads\\be200.jpg\")\n",
    "\n",
    "# Check if image loading was successful\n",
    "if img is None:\n",
    "    print(\"Error: Could not read image!\")\n",
    "    exit()\n",
    "\n",
    "# Load your custom classification YOLO model (replace with your model path)\n",
    "model = YOLO(\"C:/Users/HP/Downloads/runs/classify/train37/weights/last.pt\")\n",
    "\n",
    "# Make predictions on the image\n",
    "results = model(img)\n",
    "\n",
    "# Assuming results is a list containing a single detection (classification)\n",
    "if len(results) != 1:\n",
    "    print(\"Warning: Unexpected number of detections in results. Only processing the first one.\")\n",
    "\n",
    "# Extract predicted class name and confidence from the first detection\n",
    "names_dict = results[0].names\n",
    "probs = results[0].probs.data.tolist()\n",
    " # Assuming names attribute contains class names\n",
    "predicted_class_name = names_dict[np.argmax(probs)]\n",
    "confidence = np.argmax(probs)  # Assuming conf attribute contains confidence score\n",
    "\n",
    "# Display predicted class and confidence score (modify placement as needed)\n",
    "text = f\"Predicted Class: {predicted_class_name} - Confidence: {confidence:.2f}%\"\n",
    "cv2.putText(img, text, (50, 50), cv2.FONT_HERSHEY_SIMPLEX, 1, (0, 0, 255), 2)\n",
    "\n",
    "# Display the image with prediction\n",
    "cv2.imshow(\"Image with Prediction\", img)\n",
    "cv2.waitKey(0)  # Wait for a key press to close the window\n",
    "cv2.destroyAllWindows()\n"
   ]
  }
 ],
 "metadata": {
  "kernelspec": {
   "display_name": "Python 3 (ipykernel)",
   "language": "python",
   "name": "python3"
  },
  "language_info": {
   "codemirror_mode": {
    "name": "ipython",
    "version": 3
   },
   "file_extension": ".py",
   "mimetype": "text/x-python",
   "name": "python",
   "nbconvert_exporter": "python",
   "pygments_lexer": "ipython3",
   "version": "3.11.7"
  }
 },
 "nbformat": 4,
 "nbformat_minor": 5
}
