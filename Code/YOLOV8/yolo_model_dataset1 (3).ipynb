{
 "cells": [
  {
   "cell_type": "code",
   "execution_count": 2,
   "id": "3cbfaf8c-5ead-43d1-af18-ab82f0d87754",
   "metadata": {},
   "outputs": [],
   "source": [
    "from ultralytics import YOLO\n",
    "import random\n",
    "import shutil\n",
    "import os\n",
    "import pandas as pd\n",
    "import cv2\n",
    "import numpy as np\n",
    "import matplotlib.pyplot as plt\n",
    "%matplotlib inline\n"
   ]
  },
  {
   "cell_type": "markdown",
   "id": "48a94ddb-d48b-4d06-9007-a6f66f015ab3",
   "metadata": {},
   "source": [
    "<span style=\"font-size: 20px;\"> Splitting the data : \r\n"
   ]
  },
  {
   "cell_type": "code",
   "execution_count": null,
   "id": "beea271e-a944-4aec-8f5c-dbf8b1c5d616",
   "metadata": {},
   "outputs": [],
   "source": [
    "import os\n",
    "import random\n",
    "import shutil\n",
    "\n",
    "# Define paths\n",
    "dataset_dir = \"C:\\Users\\HP\\Downloads\\military\\crop\\split_dataset\"\n",
    "train_dir = \"C:\\Users\\HP\\Downloads\\military\\crop\\split_dataset\\test\"\n",
    "val_dir = \"C:\\Users\\HP\\Downloads\\military\\crop\\split_dataset\\train\"\n",
    "test_dir = \"C:\\Users\\HP\\Downloads\\military\\crop\\split_dataset\\val\"\n",
    "\n",
    "# Create directories if not exist\n",
    "os.makedirs(train_dir, exist_ok=True)\n",
    "os.makedirs(test_dir, exist_ok=True)\n",
    "os.makedirs(val_dir, exist_ok=True)\n",
    "\n",
    "# Define the percentage split\n",
    "train_percent = 0.7\n",
    "test_percent = 0.15\n",
    "val_percent = 0.15\n",
    "\n",
    "# Iterate over class folders\n",
    "class_folders = os.listdir(data_dir)\n",
    "for class_folder in class_folders:\n",
    "    class_path = os.path.join(data_dir, class_folder)\n",
    "    if os.path.isdir(class_path):\n",
    "        # Create class directories in train, test, and val folders\n",
    "        os.makedirs(os.path.join(train_dir, class_folder), exist_ok=True)\n",
    "        os.makedirs(os.path.join(test_dir, class_folder), exist_ok=True)\n",
    "        os.makedirs(os.path.join(val_dir, class_folder), exist_ok=True)\n",
    "\n",
    "        # Get list of images in class folder\n",
    "        images = os.listdir(class_path)\n",
    "        num_images = len(images)\n",
    "\n",
    "        # Shuffle images\n",
    "        random.shuffle(images)\n",
    "\n",
    "        # Calculate split indices\n",
    "        num_train = round(num_images * train_percent)\n",
    "        num_test = round(num_images * test_percent)\n",
    "        num_val = num_images - num_train - num_test\n",
    "\n",
    "        # Split images into train, test, and val sets\n",
    "        train_images = images[:num_train]\n",
    "        test_images = images[num_train:num_train + num_test]\n",
    "        val_images = images[num_train + num_test:]\n",
    "\n",
    "        # Copy images to respective directories\n",
    "        for image in train_images:\n",
    "            src = os.path.join(class_path, image)\n",
    "            dst = os.path.join(train_dir, class_folder, image)\n",
    "            shutil.copy(src, dst)\n",
    "        for image in test_images:\n",
    "            src = os.path.join(class_path, image)\n",
    "            dst = os.path.join(test_dir, class_folder, image)\n",
    "            shutil.copy(src, dst)\n",
    "        for image in val_images:\n",
    "            src = os.path.join(class_path, image)\n",
    "            dst = os.path.join(val_dir, class_folder, image)\n",
    "            shutil.copy(src, dst)\n"
   ]
  },
  {
   "cell_type": "markdown",
   "id": "02e6a9d9-7b29-485c-bec0-649e0b278cbe",
   "metadata": {},
   "source": [
    "<span style=\"font-size: 20px;\">Classification Model : yolov8x-cls</span>\r\n"
   ]
  },
  {
   "cell_type": "code",
   "execution_count": 3,
   "id": "217b2691-f178-4f71-9055-cecbc7a45ffd",
   "metadata": {},
   "outputs": [],
   "source": [
    "model = YOLO('yolov8x-cls.pt')  # load a pretrained model (recommended for training)"
   ]
  },
  {
   "cell_type": "code",
   "execution_count": 4,
   "id": "33174c61-535b-43fb-a418-d80255a4e3c7",
   "metadata": {},
   "outputs": [
    {
     "name": "stdout",
     "output_type": "stream",
     "text": [
      "Ultralytics YOLOv8.1.42  Python-3.11.7 torch-2.2.2+cpu CPU (11th Gen Intel Core(TM) i7-1165G7 2.80GHz)\n",
      "\u001b[34m\u001b[1mengine\\trainer: \u001b[0mtask=classify, mode=train, model=yolov8x-cls.pt, data=C:\\Users\\HP\\Downloads\\military\\crop\\data, epochs=25, time=None, patience=100, batch=16, imgsz=64, save=True, save_period=-1, cache=False, device=None, workers=8, project=None, name=train36, exist_ok=False, pretrained=True, optimizer=auto, verbose=True, seed=0, deterministic=True, single_cls=False, rect=False, cos_lr=False, close_mosaic=10, resume=False, amp=True, fraction=1.0, profile=False, freeze=None, multi_scale=False, overlap_mask=True, mask_ratio=4, dropout=0.0, val=True, split=val, save_json=False, save_hybrid=False, conf=None, iou=0.7, max_det=300, half=False, dnn=False, plots=True, source=None, vid_stride=1, stream_buffer=False, visualize=False, augment=False, agnostic_nms=False, classes=None, retina_masks=False, embed=None, show=False, save_frames=False, save_txt=False, save_conf=False, save_crop=False, show_labels=True, show_conf=True, show_boxes=True, line_width=None, format=torchscript, keras=False, optimize=False, int8=False, dynamic=False, simplify=False, opset=None, workspace=4, nms=False, lr0=0.01, lrf=0.001, momentum=0.937, weight_decay=0.0005, warmup_epochs=3.0, warmup_momentum=0.8, warmup_bias_lr=0.1, box=7.5, cls=0.5, dfl=1.5, pose=12.0, kobj=1.0, label_smoothing=0.0, nbs=64, hsv_h=0.015, hsv_s=0.7, hsv_v=0.4, degrees=0.0, translate=0.1, scale=0.5, shear=0.0, perspective=0.0, flipud=0.0, fliplr=0.5, bgr=0.0, mosaic=1.0, mixup=0.0, copy_paste=0.0, auto_augment=randaugment, erasing=0.4, crop_fraction=1.0, cfg=None, tracker=botsort.yaml, save_dir=runs\\classify\\train36\n",
      "\u001b[34m\u001b[1mtrain:\u001b[0m C:\\Users\\HP\\Downloads\\military\\crop\\data\\train... found 17889 images in 47 classes  \n",
      "\u001b[34m\u001b[1mval:\u001b[0m C:\\Users\\HP\\Downloads\\military\\crop\\data\\val... found 2256 images in 47 classes  \n",
      "\u001b[34m\u001b[1mtest:\u001b[0m C:\\Users\\HP\\Downloads\\military\\crop\\data\\test... found 2192 images in 47 classes  \n",
      "Overriding model.yaml nc=1000 with nc=47\n",
      "\n",
      "                   from  n    params  module                                       arguments                     \n",
      "  0                  -1  1      2320  ultralytics.nn.modules.conv.Conv             [3, 80, 3, 2]                 \n",
      "  1                  -1  1    115520  ultralytics.nn.modules.conv.Conv             [80, 160, 3, 2]               \n",
      "  2                  -1  3    436800  ultralytics.nn.modules.block.C2f             [160, 160, 3, True]           \n",
      "  3                  -1  1    461440  ultralytics.nn.modules.conv.Conv             [160, 320, 3, 2]              \n",
      "  4                  -1  6   3281920  ultralytics.nn.modules.block.C2f             [320, 320, 6, True]           \n",
      "  5                  -1  1   1844480  ultralytics.nn.modules.conv.Conv             [320, 640, 3, 2]              \n",
      "  6                  -1  6  13117440  ultralytics.nn.modules.block.C2f             [640, 640, 6, True]           \n",
      "  7                  -1  1   7375360  ultralytics.nn.modules.conv.Conv             [640, 1280, 3, 2]             \n",
      "  8                  -1  3  27865600  ultralytics.nn.modules.block.C2f             [1280, 1280, 3, True]         \n",
      "  9                  -1  1   1701167  ultralytics.nn.modules.head.Classify         [1280, 47]                    \n",
      "YOLOv8x-cls summary: 183 layers, 56202047 parameters, 56202047 gradients, 154.4 GFLOPs\n",
      "Transferred 300/302 items from pretrained weights\n",
      "\u001b[34m\u001b[1mTensorBoard: \u001b[0mStart with 'tensorboard --logdir runs\\classify\\train36', view at http://localhost:6006/\n"
     ]
    },
    {
     "name": "stderr",
     "output_type": "stream",
     "text": [
      "\u001b[34m\u001b[1mtrain: \u001b[0mScanning C:\\Users\\HP\\Downloads\\military\\crop\\data\\train... 17869 images, 20 corrupt: 100%|██████████| 17869/17869 [00:00<?, ?it/s]"
     ]
    },
    {
     "name": "stdout",
     "output_type": "stream",
     "text": [
      "\u001b[34m\u001b[1mtrain: \u001b[0mWARNING  C:\\Users\\HP\\Downloads\\military\\crop\\data\\train\\B1\\3e8e9b33cae546f9cd705b04beb19b86_0.jpg: ignoring corrupt image/label: image size (9, 43) <10 pixels\n",
      "\u001b[34m\u001b[1mtrain: \u001b[0mWARNING  C:\\Users\\HP\\Downloads\\military\\crop\\data\\train\\B1\\3e8e9b33cae546f9cd705b04beb19b86_1.jpg: ignoring corrupt image/label: image size (9, 44) <10 pixels\n",
      "\u001b[34m\u001b[1mtrain: \u001b[0mWARNING  C:\\Users\\HP\\Downloads\\military\\crop\\data\\train\\B1\\3e8e9b33cae546f9cd705b04beb19b86_2.jpg: ignoring corrupt image/label: image size (9, 45) <10 pixels\n",
      "\u001b[34m\u001b[1mtrain: \u001b[0mWARNING  C:\\Users\\HP\\Downloads\\military\\crop\\data\\train\\B2\\24ccde194acc7ed186a529293d7cbbff_0.jpg: ignoring corrupt image/label: image size (8, 44) <10 pixels\n",
      "\u001b[34m\u001b[1mtrain: \u001b[0mWARNING  C:\\Users\\HP\\Downloads\\military\\crop\\data\\train\\B2\\815e60ecc084056ab212cb7e9fd0a8da_0.jpg: ignoring corrupt image/label: image size (6, 37) <10 pixels\n",
      "\u001b[34m\u001b[1mtrain: \u001b[0mWARNING  C:\\Users\\HP\\Downloads\\military\\crop\\data\\train\\B52\\0c1f9a40df584f13cf3b71dcb0968ec2_10.jpg: ignoring corrupt image/label: image size (8, 62) <10 pixels\n",
      "\u001b[34m\u001b[1mtrain: \u001b[0mWARNING  C:\\Users\\HP\\Downloads\\military\\crop\\data\\train\\B52\\6bf286cb8e8c25f8c5919b6a5ef99883_0.jpg: ignoring corrupt image/label: image size (6, 22) <10 pixels\n",
      "\u001b[34m\u001b[1mtrain: \u001b[0mWARNING  C:\\Users\\HP\\Downloads\\military\\crop\\data\\train\\B52\\6bf286cb8e8c25f8c5919b6a5ef99883_1.jpg: ignoring corrupt image/label: image size (6, 21) <10 pixels\n",
      "\u001b[34m\u001b[1mtrain: \u001b[0mWARNING  C:\\Users\\HP\\Downloads\\military\\crop\\data\\train\\Be200\\3e2bd117b640e4b7b53c77b2825a5378_0.jpg: ignoring corrupt image/label: image size (9, 28) <10 pixels\n",
      "\u001b[34m\u001b[1mtrain: \u001b[0mWARNING  C:\\Users\\HP\\Downloads\\military\\crop\\data\\train\\C130\\fcd67777ad3fff3b8ecc07d81a387eb2_0.jpg: ignoring corrupt image/label: image size (8, 21) <10 pixels\n",
      "\u001b[34m\u001b[1mtrain: \u001b[0mWARNING  C:\\Users\\HP\\Downloads\\military\\crop\\data\\train\\C17\\d541ae8e2d1baa85cca673fe708c4a6b_1.jpg: ignoring corrupt image/label: image size (9, 23) <10 pixels\n",
      "\u001b[34m\u001b[1mtrain: \u001b[0mWARNING  C:\\Users\\HP\\Downloads\\military\\crop\\data\\train\\F117\\7aabb72565dae3f2544267ee1ce3f1b4_2.jpg: ignoring corrupt image/label: image size (7, 31) <10 pixels\n",
      "\u001b[34m\u001b[1mtrain: \u001b[0mWARNING  C:\\Users\\HP\\Downloads\\military\\crop\\data\\train\\F15\\a9fe7dbcb36994e93ecc56919a5be755_0.jpg: ignoring corrupt image/label: image size (7, 11) <10 pixels\n",
      "\u001b[34m\u001b[1mtrain: \u001b[0mWARNING  C:\\Users\\HP\\Downloads\\military\\crop\\data\\train\\F15\\a9fe7dbcb36994e93ecc56919a5be755_1.jpg: ignoring corrupt image/label: image size (7, 11) <10 pixels\n",
      "\u001b[34m\u001b[1mtrain: \u001b[0mWARNING  C:\\Users\\HP\\Downloads\\military\\crop\\data\\train\\F16\\e511decc1e28e3f1c41ec70ba86110f5_1.jpg: ignoring corrupt image/label: image size (9, 20) <10 pixels\n",
      "\u001b[34m\u001b[1mtrain: \u001b[0mWARNING  C:\\Users\\HP\\Downloads\\military\\crop\\data\\train\\F16\\ff36b73cf344b8634663df1bb37f2a62_0.jpg: ignoring corrupt image/label: image size (9, 18) <10 pixels\n",
      "\u001b[34m\u001b[1mtrain: \u001b[0mWARNING  C:\\Users\\HP\\Downloads\\military\\crop\\data\\train\\F16\\ff36b73cf344b8634663df1bb37f2a62_1.jpg: ignoring corrupt image/label: image size (9, 16) <10 pixels\n",
      "\u001b[34m\u001b[1mtrain: \u001b[0mWARNING  C:\\Users\\HP\\Downloads\\military\\crop\\data\\train\\F18\\f31ec6705c27e98c716ce6c68d44ca76_1.jpg: ignoring corrupt image/label: image size (9, 30) <10 pixels\n",
      "\u001b[34m\u001b[1mtrain: \u001b[0mWARNING  C:\\Users\\HP\\Downloads\\military\\crop\\data\\train\\F35\\70aa0d4a87c0ebb34eabd8f4708b0c43_2.jpg: ignoring corrupt image/label: image size (8, 22) <10 pixels\n",
      "\u001b[34m\u001b[1mtrain: \u001b[0mWARNING  C:\\Users\\HP\\Downloads\\military\\crop\\data\\train\\F35\\a07fc002e62f8b5d69daa4ff167de23c_0.jpg: ignoring corrupt image/label: image size (9, 29) <10 pixels\n"
     ]
    },
    {
     "name": "stderr",
     "output_type": "stream",
     "text": [
      "\n",
      "\u001b[34m\u001b[1mval: \u001b[0mScanning C:\\Users\\HP\\Downloads\\military\\crop\\data\\val... 2251 images, 5 corrupt: 100%|██████████| 2251/2251 [00:00<?, ?it/s]"
     ]
    },
    {
     "name": "stdout",
     "output_type": "stream",
     "text": [
      "\u001b[34m\u001b[1mval: \u001b[0mWARNING  C:\\Users\\HP\\Downloads\\military\\crop\\data\\val\\B2\\20119511433f4033037247136d240dbf_1.jpg: ignoring corrupt image/label: image size (9, 54) <10 pixels\n",
      "\u001b[34m\u001b[1mval: \u001b[0mWARNING  C:\\Users\\HP\\Downloads\\military\\crop\\data\\val\\B2\\a07b28717e967e3aef1d9971871ae5e5_2.jpg: ignoring corrupt image/label: image size (9, 38) <10 pixels\n",
      "\u001b[34m\u001b[1mval: \u001b[0mWARNING  C:\\Users\\HP\\Downloads\\military\\crop\\data\\val\\F18\\2957729725f0acb08acb86af5e28c5f3_0.jpg: ignoring corrupt image/label: image size (9, 20) <10 pixels\n",
      "\u001b[34m\u001b[1mval: \u001b[0mWARNING  C:\\Users\\HP\\Downloads\\military\\crop\\data\\val\\Rafale\\9bf0ef742130d8324bc8894298af485a_0.jpg: ignoring corrupt image/label: image size (7, 13) <10 pixels\n",
      "\u001b[34m\u001b[1mval: \u001b[0mWARNING  C:\\Users\\HP\\Downloads\\military\\crop\\data\\val\\V22\\a2eec38e660f689ae84071f85fd941a2_0.jpg: ignoring corrupt image/label: image size (9, 20) <10 pixels\n",
      "\u001b[34m\u001b[1moptimizer:\u001b[0m 'optimizer=auto' found, ignoring 'lr0=0.01' and 'momentum=0.937' and determining best 'optimizer', 'lr0' and 'momentum' automatically... \n",
      "\u001b[34m\u001b[1moptimizer:\u001b[0m AdamW(lr=0.000714, momentum=0.9) with parameter groups 50 weight(decay=0.0), 51 weight(decay=0.0005), 51 bias(decay=0.0)\n"
     ]
    },
    {
     "name": "stderr",
     "output_type": "stream",
     "text": [
      "\n"
     ]
    },
    {
     "name": "stdout",
     "output_type": "stream",
     "text": [
      "\u001b[34m\u001b[1mTensorBoard: \u001b[0mmodel graph visualization added \n",
      "Image sizes 64 train, 64 val\n",
      "Using 0 dataloader workers\n",
      "Logging results to \u001b[1mruns\\classify\\train36\u001b[0m\n",
      "Starting training for 25 epochs...\n",
      "\n",
      "      Epoch    GPU_mem       loss  Instances       Size\n"
     ]
    },
    {
     "name": "stderr",
     "output_type": "stream",
     "text": [
      "       1/25         0G      3.418         13         64: 100%|██████████| 1117/1117 [30:53<00:00,  1.66s/it]\n",
      "               classes   top1_acc   top5_acc: 100%|██████████| 71/71 [01:10<00:00,  1.01it/s]"
     ]
    },
    {
     "name": "stdout",
     "output_type": "stream",
     "text": [
      "                   all      0.349      0.655\n"
     ]
    },
    {
     "name": "stderr",
     "output_type": "stream",
     "text": [
      "\n"
     ]
    },
    {
     "name": "stdout",
     "output_type": "stream",
     "text": [
      "\n",
      "      Epoch    GPU_mem       loss  Instances       Size\n"
     ]
    },
    {
     "name": "stderr",
     "output_type": "stream",
     "text": [
      "       2/25         0G      2.337         13         64: 100%|██████████| 1117/1117 [26:16<00:00,  1.41s/it]\n",
      "               classes   top1_acc   top5_acc: 100%|██████████| 71/71 [00:58<00:00,  1.22it/s]"
     ]
    },
    {
     "name": "stdout",
     "output_type": "stream",
     "text": [
      "                   all      0.476      0.784\n"
     ]
    },
    {
     "name": "stderr",
     "output_type": "stream",
     "text": [
      "\n"
     ]
    },
    {
     "name": "stdout",
     "output_type": "stream",
     "text": [
      "\n",
      "      Epoch    GPU_mem       loss  Instances       Size\n"
     ]
    },
    {
     "name": "stderr",
     "output_type": "stream",
     "text": [
      "       3/25         0G      1.994         13         64: 100%|██████████| 1117/1117 [24:27<00:00,  1.31s/it]\n",
      "               classes   top1_acc   top5_acc: 100%|██████████| 71/71 [00:52<00:00,  1.35it/s]"
     ]
    },
    {
     "name": "stdout",
     "output_type": "stream",
     "text": [
      "                   all      0.518      0.815\n"
     ]
    },
    {
     "name": "stderr",
     "output_type": "stream",
     "text": [
      "\n"
     ]
    },
    {
     "name": "stdout",
     "output_type": "stream",
     "text": [
      "\n",
      "      Epoch    GPU_mem       loss  Instances       Size\n"
     ]
    },
    {
     "name": "stderr",
     "output_type": "stream",
     "text": [
      "       4/25         0G      1.802         13         64: 100%|██████████| 1117/1117 [22:41<00:00,  1.22s/it]\n",
      "               classes   top1_acc   top5_acc: 100%|██████████| 71/71 [00:53<00:00,  1.33it/s]"
     ]
    },
    {
     "name": "stdout",
     "output_type": "stream",
     "text": [
      "                   all      0.558      0.828\n"
     ]
    },
    {
     "name": "stderr",
     "output_type": "stream",
     "text": [
      "\n"
     ]
    },
    {
     "name": "stdout",
     "output_type": "stream",
     "text": [
      "\n",
      "      Epoch    GPU_mem       loss  Instances       Size\n"
     ]
    },
    {
     "name": "stderr",
     "output_type": "stream",
     "text": [
      "       5/25         0G      1.589         13         64: 100%|██████████| 1117/1117 [24:24<00:00,  1.31s/it]\n",
      "               classes   top1_acc   top5_acc: 100%|██████████| 71/71 [01:00<00:00,  1.18it/s]"
     ]
    },
    {
     "name": "stdout",
     "output_type": "stream",
     "text": [
      "                   all      0.622      0.858\n"
     ]
    },
    {
     "name": "stderr",
     "output_type": "stream",
     "text": [
      "\n"
     ]
    },
    {
     "name": "stdout",
     "output_type": "stream",
     "text": [
      "\n",
      "      Epoch    GPU_mem       loss  Instances       Size\n"
     ]
    },
    {
     "name": "stderr",
     "output_type": "stream",
     "text": [
      "       6/25         0G      1.416         13         64: 100%|██████████| 1117/1117 [25:28<00:00,  1.37s/it]\n",
      "               classes   top1_acc   top5_acc: 100%|██████████| 71/71 [00:56<00:00,  1.27it/s]"
     ]
    },
    {
     "name": "stdout",
     "output_type": "stream",
     "text": [
      "                   all      0.647      0.878\n"
     ]
    },
    {
     "name": "stderr",
     "output_type": "stream",
     "text": [
      "\n"
     ]
    },
    {
     "name": "stdout",
     "output_type": "stream",
     "text": [
      "\n",
      "      Epoch    GPU_mem       loss  Instances       Size\n"
     ]
    },
    {
     "name": "stderr",
     "output_type": "stream",
     "text": [
      "       7/25         0G      1.267         13         64: 100%|██████████| 1117/1117 [36:44<00:00,  1.97s/it]\n",
      "               classes   top1_acc   top5_acc: 100%|██████████| 71/71 [00:55<00:00,  1.29it/s]"
     ]
    },
    {
     "name": "stdout",
     "output_type": "stream",
     "text": [
      "                   all      0.656      0.887\n"
     ]
    },
    {
     "name": "stderr",
     "output_type": "stream",
     "text": [
      "\n"
     ]
    },
    {
     "name": "stdout",
     "output_type": "stream",
     "text": [
      "\n",
      "      Epoch    GPU_mem       loss  Instances       Size\n"
     ]
    },
    {
     "name": "stderr",
     "output_type": "stream",
     "text": [
      "       8/25         0G      1.142         13         64: 100%|██████████| 1117/1117 [1:01:19<00:00,  3.29s/it] \n",
      "               classes   top1_acc   top5_acc: 100%|██████████| 71/71 [11:36<00:00,  9.81s/it]   "
     ]
    },
    {
     "name": "stdout",
     "output_type": "stream",
     "text": [
      "                   all      0.689      0.896\n"
     ]
    },
    {
     "name": "stderr",
     "output_type": "stream",
     "text": [
      "\n"
     ]
    },
    {
     "name": "stdout",
     "output_type": "stream",
     "text": [
      "\n",
      "      Epoch    GPU_mem       loss  Instances       Size\n"
     ]
    },
    {
     "name": "stderr",
     "output_type": "stream",
     "text": [
      "       9/25         0G      1.045         13         64: 100%|██████████| 1117/1117 [1:01:29<00:00,  3.30s/it]\n",
      "               classes   top1_acc   top5_acc: 100%|██████████| 71/71 [02:52<00:00,  2.43s/it]"
     ]
    },
    {
     "name": "stdout",
     "output_type": "stream",
     "text": [
      "                   all      0.694      0.897\n"
     ]
    },
    {
     "name": "stderr",
     "output_type": "stream",
     "text": [
      "\n"
     ]
    },
    {
     "name": "stdout",
     "output_type": "stream",
     "text": [
      "\n",
      "      Epoch    GPU_mem       loss  Instances       Size\n"
     ]
    },
    {
     "name": "stderr",
     "output_type": "stream",
     "text": [
      "      10/25         0G     0.9409         13         64: 100%|██████████| 1117/1117 [55:42<00:00,  2.99s/it] \n",
      "               classes   top1_acc   top5_acc: 100%|██████████| 71/71 [01:25<00:00,  1.20s/it]"
     ]
    },
    {
     "name": "stdout",
     "output_type": "stream",
     "text": [
      "                   all      0.721      0.908\n"
     ]
    },
    {
     "name": "stderr",
     "output_type": "stream",
     "text": [
      "\n"
     ]
    },
    {
     "name": "stdout",
     "output_type": "stream",
     "text": [
      "\n",
      "      Epoch    GPU_mem       loss  Instances       Size\n"
     ]
    },
    {
     "name": "stderr",
     "output_type": "stream",
     "text": [
      "      11/25         0G     0.8679         13         64: 100%|██████████| 1117/1117 [26:48<00:00,  1.44s/it]\n",
      "               classes   top1_acc   top5_acc: 100%|██████████| 71/71 [01:12<00:00,  1.02s/it]"
     ]
    },
    {
     "name": "stdout",
     "output_type": "stream",
     "text": [
      "                   all      0.737       0.92\n"
     ]
    },
    {
     "name": "stderr",
     "output_type": "stream",
     "text": [
      "\n"
     ]
    },
    {
     "name": "stdout",
     "output_type": "stream",
     "text": [
      "\n",
      "      Epoch    GPU_mem       loss  Instances       Size\n"
     ]
    },
    {
     "name": "stderr",
     "output_type": "stream",
     "text": [
      "      12/25         0G     0.7793         13         64: 100%|██████████| 1117/1117 [23:22<00:00,  1.26s/it]\n",
      "               classes   top1_acc   top5_acc: 100%|██████████| 71/71 [00:55<00:00,  1.29it/s]"
     ]
    },
    {
     "name": "stdout",
     "output_type": "stream",
     "text": [
      "                   all      0.737       0.91\n"
     ]
    },
    {
     "name": "stderr",
     "output_type": "stream",
     "text": [
      "\n"
     ]
    },
    {
     "name": "stdout",
     "output_type": "stream",
     "text": [
      "\n",
      "      Epoch    GPU_mem       loss  Instances       Size\n"
     ]
    },
    {
     "name": "stderr",
     "output_type": "stream",
     "text": [
      "      13/25         0G     0.7024         13         64: 100%|██████████| 1117/1117 [22:30<00:00,  1.21s/it]\n",
      "               classes   top1_acc   top5_acc: 100%|██████████| 71/71 [00:55<00:00,  1.29it/s]"
     ]
    },
    {
     "name": "stdout",
     "output_type": "stream",
     "text": [
      "                   all      0.754      0.912\n"
     ]
    },
    {
     "name": "stderr",
     "output_type": "stream",
     "text": [
      "\n"
     ]
    },
    {
     "name": "stdout",
     "output_type": "stream",
     "text": [
      "\n",
      "      Epoch    GPU_mem       loss  Instances       Size\n"
     ]
    },
    {
     "name": "stderr",
     "output_type": "stream",
     "text": [
      "      14/25         0G     0.6425         13         64: 100%|██████████| 1117/1117 [24:23<00:00,  1.31s/it]\n",
      "               classes   top1_acc   top5_acc: 100%|██████████| 71/71 [01:12<00:00,  1.02s/it]"
     ]
    },
    {
     "name": "stdout",
     "output_type": "stream",
     "text": [
      "                   all      0.739      0.915\n"
     ]
    },
    {
     "name": "stderr",
     "output_type": "stream",
     "text": [
      "\n"
     ]
    },
    {
     "name": "stdout",
     "output_type": "stream",
     "text": [
      "\n",
      "      Epoch    GPU_mem       loss  Instances       Size\n"
     ]
    },
    {
     "name": "stderr",
     "output_type": "stream",
     "text": [
      "      15/25         0G     0.5961         13         64: 100%|██████████| 1117/1117 [22:51<00:00,  1.23s/it]\n",
      "               classes   top1_acc   top5_acc: 100%|██████████| 71/71 [00:54<00:00,  1.30it/s]"
     ]
    },
    {
     "name": "stdout",
     "output_type": "stream",
     "text": [
      "                   all       0.75      0.909\n"
     ]
    },
    {
     "name": "stderr",
     "output_type": "stream",
     "text": [
      "\n"
     ]
    },
    {
     "name": "stdout",
     "output_type": "stream",
     "text": [
      "\n",
      "      Epoch    GPU_mem       loss  Instances       Size\n"
     ]
    },
    {
     "name": "stderr",
     "output_type": "stream",
     "text": [
      "      16/25         0G     0.5365         13         64: 100%|██████████| 1117/1117 [22:54<00:00,  1.23s/it]\n",
      "               classes   top1_acc   top5_acc: 100%|██████████| 71/71 [00:53<00:00,  1.32it/s]"
     ]
    },
    {
     "name": "stdout",
     "output_type": "stream",
     "text": [
      "                   all      0.766       0.92\n"
     ]
    },
    {
     "name": "stderr",
     "output_type": "stream",
     "text": [
      "\n"
     ]
    },
    {
     "name": "stdout",
     "output_type": "stream",
     "text": [
      "\n",
      "      Epoch    GPU_mem       loss  Instances       Size\n"
     ]
    },
    {
     "name": "stderr",
     "output_type": "stream",
     "text": [
      "      17/25         0G     0.5045         13         64: 100%|██████████| 1117/1117 [22:20<00:00,  1.20s/it]\n",
      "               classes   top1_acc   top5_acc: 100%|██████████| 71/71 [01:01<00:00,  1.16it/s]"
     ]
    },
    {
     "name": "stdout",
     "output_type": "stream",
     "text": [
      "                   all      0.773      0.918\n"
     ]
    },
    {
     "name": "stderr",
     "output_type": "stream",
     "text": [
      "\n"
     ]
    },
    {
     "name": "stdout",
     "output_type": "stream",
     "text": [
      "\n",
      "      Epoch    GPU_mem       loss  Instances       Size\n"
     ]
    },
    {
     "name": "stderr",
     "output_type": "stream",
     "text": [
      "      18/25         0G     0.4631         13         64: 100%|██████████| 1117/1117 [46:53<00:00,  2.52s/it]\n",
      "               classes   top1_acc   top5_acc: 100%|██████████| 71/71 [02:31<00:00,  2.13s/it]"
     ]
    },
    {
     "name": "stdout",
     "output_type": "stream",
     "text": [
      "                   all       0.77      0.926\n"
     ]
    },
    {
     "name": "stderr",
     "output_type": "stream",
     "text": [
      "\n"
     ]
    },
    {
     "name": "stdout",
     "output_type": "stream",
     "text": [
      "\n",
      "      Epoch    GPU_mem       loss  Instances       Size\n"
     ]
    },
    {
     "name": "stderr",
     "output_type": "stream",
     "text": [
      "      19/25         0G     0.4247         13         64: 100%|██████████| 1117/1117 [55:12<00:00,  2.97s/it]\n",
      "               classes   top1_acc   top5_acc: 100%|██████████| 71/71 [02:30<00:00,  2.12s/it]"
     ]
    },
    {
     "name": "stdout",
     "output_type": "stream",
     "text": [
      "                   all      0.775      0.919\n"
     ]
    },
    {
     "name": "stderr",
     "output_type": "stream",
     "text": [
      "\n"
     ]
    },
    {
     "name": "stdout",
     "output_type": "stream",
     "text": [
      "\n",
      "      Epoch    GPU_mem       loss  Instances       Size\n"
     ]
    },
    {
     "name": "stderr",
     "output_type": "stream",
     "text": [
      "      20/25         0G     0.3852         13         64: 100%|██████████| 1117/1117 [31:17<00:00,  1.68s/it] \n",
      "               classes   top1_acc   top5_acc: 100%|██████████| 71/71 [01:06<00:00,  1.07it/s]"
     ]
    },
    {
     "name": "stdout",
     "output_type": "stream",
     "text": [
      "                   all      0.786      0.922\n"
     ]
    },
    {
     "name": "stderr",
     "output_type": "stream",
     "text": [
      "\n"
     ]
    },
    {
     "name": "stdout",
     "output_type": "stream",
     "text": [
      "\n",
      "      Epoch    GPU_mem       loss  Instances       Size\n"
     ]
    },
    {
     "name": "stderr",
     "output_type": "stream",
     "text": [
      "      21/25         0G     0.3549         13         64: 100%|██████████| 1117/1117 [25:48<00:00,  1.39s/it]\n",
      "               classes   top1_acc   top5_acc: 100%|██████████| 71/71 [01:03<00:00,  1.11it/s]"
     ]
    },
    {
     "name": "stdout",
     "output_type": "stream",
     "text": [
      "                   all      0.795      0.924\n"
     ]
    },
    {
     "name": "stderr",
     "output_type": "stream",
     "text": [
      "\n"
     ]
    },
    {
     "name": "stdout",
     "output_type": "stream",
     "text": [
      "\n",
      "      Epoch    GPU_mem       loss  Instances       Size\n"
     ]
    },
    {
     "name": "stderr",
     "output_type": "stream",
     "text": [
      "      22/25         0G     0.3303         13         64: 100%|██████████| 1117/1117 [26:22<00:00,  1.42s/it]\n",
      "               classes   top1_acc   top5_acc: 100%|██████████| 71/71 [01:04<00:00,  1.11it/s]"
     ]
    },
    {
     "name": "stdout",
     "output_type": "stream",
     "text": [
      "                   all      0.795      0.925\n"
     ]
    },
    {
     "name": "stderr",
     "output_type": "stream",
     "text": [
      "\n"
     ]
    },
    {
     "name": "stdout",
     "output_type": "stream",
     "text": [
      "\n",
      "      Epoch    GPU_mem       loss  Instances       Size\n"
     ]
    },
    {
     "name": "stderr",
     "output_type": "stream",
     "text": [
      "      23/25         0G     0.3064         13         64: 100%|██████████| 1117/1117 [43:52<00:00,  2.36s/it]\n",
      "               classes   top1_acc   top5_acc: 100%|██████████| 71/71 [02:30<00:00,  2.12s/it]"
     ]
    },
    {
     "name": "stdout",
     "output_type": "stream",
     "text": [
      "                   all      0.796      0.924\n"
     ]
    },
    {
     "name": "stderr",
     "output_type": "stream",
     "text": [
      "\n"
     ]
    },
    {
     "name": "stdout",
     "output_type": "stream",
     "text": [
      "\n",
      "      Epoch    GPU_mem       loss  Instances       Size\n"
     ]
    },
    {
     "name": "stderr",
     "output_type": "stream",
     "text": [
      "      24/25         0G     0.2787         13         64: 100%|██████████| 1117/1117 [56:55<00:00,  3.06s/it]\n",
      "               classes   top1_acc   top5_acc: 100%|██████████| 71/71 [02:28<00:00,  2.10s/it]"
     ]
    },
    {
     "name": "stdout",
     "output_type": "stream",
     "text": [
      "                   all        0.8      0.926\n"
     ]
    },
    {
     "name": "stderr",
     "output_type": "stream",
     "text": [
      "\n"
     ]
    },
    {
     "name": "stdout",
     "output_type": "stream",
     "text": [
      "\n",
      "      Epoch    GPU_mem       loss  Instances       Size\n"
     ]
    },
    {
     "name": "stderr",
     "output_type": "stream",
     "text": [
      "      25/25         0G     0.2527         13         64: 100%|██████████| 1117/1117 [51:04<00:00,  2.74s/it]\n",
      "               classes   top1_acc   top5_acc: 100%|██████████| 71/71 [02:08<00:00,  1.81s/it]"
     ]
    },
    {
     "name": "stdout",
     "output_type": "stream",
     "text": [
      "                   all      0.801      0.927\n"
     ]
    },
    {
     "name": "stderr",
     "output_type": "stream",
     "text": [
      "\n"
     ]
    },
    {
     "name": "stdout",
     "output_type": "stream",
     "text": [
      "\n",
      "25 epochs completed in 15.319 hours.\n",
      "Optimizer stripped from runs\\classify\\train36\\weights\\last.pt, 112.6MB\n",
      "Optimizer stripped from runs\\classify\\train36\\weights\\best.pt, 112.6MB\n",
      "\n",
      "Validating runs\\classify\\train36\\weights\\best.pt...\n",
      "Ultralytics YOLOv8.1.42  Python-3.11.7 torch-2.2.2+cpu CPU (11th Gen Intel Core(TM) i7-1165G7 2.80GHz)\n",
      "YOLOv8x-cls summary (fused): 133 layers, 56183407 parameters, 0 gradients, 153.8 GFLOPs\n",
      "\u001b[34m\u001b[1mtrain:\u001b[0m C:\\Users\\HP\\Downloads\\military\\crop\\data\\train... found 17889 images in 47 classes  \n",
      "\u001b[34m\u001b[1mval:\u001b[0m C:\\Users\\HP\\Downloads\\military\\crop\\data\\val... found 2256 images in 47 classes  \n",
      "\u001b[34m\u001b[1mtest:\u001b[0m C:\\Users\\HP\\Downloads\\military\\crop\\data\\test... found 2192 images in 47 classes  \n"
     ]
    },
    {
     "name": "stderr",
     "output_type": "stream",
     "text": [
      "               classes   top1_acc   top5_acc: 100%|██████████| 71/71 [02:02<00:00,  1.72s/it]\n"
     ]
    },
    {
     "name": "stdout",
     "output_type": "stream",
     "text": [
      "                   all      0.802      0.926\n",
      "Speed: 0.0ms preprocess, 29.1ms inference, 0.0ms loss, 0.0ms postprocess per image\n",
      "Results saved to \u001b[1mruns\\classify\\train36\u001b[0m\n",
      "Results saved to \u001b[1mruns\\classify\\train36\u001b[0m\n"
     ]
    }
   ],
   "source": [
    "results = model.train(data=r\"C:\\Users\\HP\\Downloads\\military\\crop\\data\", epochs=25, imgsz=64,lr0=0.01,lrf=0.001)# Adjust the initial learning ratelrf: \n"
   ]
  },
  {
   "cell_type": "markdown",
   "id": "31a4e4da-0819-407c-9317-32090a996a71",
   "metadata": {},
   "source": [
    "<span style=\"font-size: 20px;\">Model evaluation </span>\r\n"
   ]
  },
  {
   "cell_type": "code",
   "execution_count": 10,
   "id": "1e0b839e-da7a-44b2-86a5-c5669552f8d7",
   "metadata": {},
   "outputs": [
    {
     "data": {
      "image/png": "[encoded data removed]",
      "text/plain": [
       "<Figure size 640x480 with 1 Axes>"
      ]
     },
     "metadata": {},
     "output_type": "display_data"
    },
    {
     "data": {
      "image/png": "[encoded data removed]",
      "text/plain": [
       "<Figure size 640x480 with 1 Axes>"
      ]
     },
     "metadata": {},
     "output_type": "display_data"
    }
   ],
   "source": [
    "# Assuming 'results.csv' is in the same directory as this script\n",
    "results_path = r\"C:\\Users\\HP\\Downloads\\runs\\classify\\train36\\results.csv\"\n",
    "\n",
    "# Read the CSV file\n",
    "results = pd.read_csv(r\"C:\\Users\\HP\\Downloads\\runs\\classify\\train36\\results.csv\")\n",
    "\n",
    "# Plot loss vs epochs\n",
    "plt.figure()\n",
    "plt.plot(results['epoch'], results[' train/loss'], label='train loss')\n",
    "plt.plot(results['epoch'], results['val/loss'], label='val loss', c='red')\n",
    "plt.grid()\n",
    "plt.title('Loss vs epochs')\n",
    "plt.ylabel('loss')\n",
    "plt.xlabel('epochs')\n",
    "plt.legend()\n",
    "\n",
    "# Plot validation accuracy vs epochs\n",
    "plt.figure()\n",
    "plt.plot(results['epoch'], results['metrics/accuracy_top1'] * 100)\n",
    "plt.grid()\n",
    "plt.title('Validation accuracy vs epochs')\n",
    "plt.ylabel('accuracy (%)')\n",
    "plt.xlabel('epochs')\n",
    "\n",
    "plt.show()\n"
   ]
  },
  {
   "cell_type": "code",
   "execution_count": 12,
   "id": "7aca450d-27ba-4017-9196-1313c0bc2f7d",
   "metadata": {},
   "outputs": [
    {
     "name": "stdout",
     "output_type": "stream",
     "text": [
      "Ultralytics YOLOv8.1.42  Python-3.11.7 torch-2.2.2+cpu CPU (11th Gen Intel Core(TM) i7-1165G7 2.80GHz)\n",
      "YOLOv8x-cls summary (fused): 133 layers, 56183407 parameters, 0 gradients, 153.8 GFLOPs\n",
      "\u001b[34m\u001b[1mtrain:\u001b[0m C:\\Users\\HP\\Downloads\\military\\crop\\data\\train... found 17889 images in 47 classes  \n",
      "\u001b[34m\u001b[1mval:\u001b[0m C:\\Users\\HP\\Downloads\\military\\crop\\data\\val... found 2256 images in 47 classes  \n",
      "\u001b[34m\u001b[1mtest:\u001b[0m C:\\Users\\HP\\Downloads\\military\\crop\\data\\test... found 2192 images in 47 classes  \n"
     ]
    },
    {
     "name": "stderr",
     "output_type": "stream",
     "text": [
      "\u001b[34m\u001b[1mval: \u001b[0mScanning C:\\Users\\HP\\Downloads\\military\\crop\\data\\val... 2251 images, 5 corrupt: 100%|██████████| 2251/2251 [00:00<?, ?it/s]"
     ]
    },
    {
     "name": "stdout",
     "output_type": "stream",
     "text": [
      "\u001b[34m\u001b[1mval: \u001b[0mWARNING  C:\\Users\\HP\\Downloads\\military\\crop\\data\\val\\B2\\20119511433f4033037247136d240dbf_1.jpg: ignoring corrupt image/label: image size (9, 54) <10 pixels\n",
      "\u001b[34m\u001b[1mval: \u001b[0mWARNING  C:\\Users\\HP\\Downloads\\military\\crop\\data\\val\\B2\\a07b28717e967e3aef1d9971871ae5e5_2.jpg: ignoring corrupt image/label: image size (9, 38) <10 pixels\n",
      "\u001b[34m\u001b[1mval: \u001b[0mWARNING  C:\\Users\\HP\\Downloads\\military\\crop\\data\\val\\F18\\2957729725f0acb08acb86af5e28c5f3_0.jpg: ignoring corrupt image/label: image size (9, 20) <10 pixels\n",
      "\u001b[34m\u001b[1mval: \u001b[0mWARNING  C:\\Users\\HP\\Downloads\\military\\crop\\data\\val\\Rafale\\9bf0ef742130d8324bc8894298af485a_0.jpg: ignoring corrupt image/label: image size (7, 13) <10 pixels\n",
      "\u001b[34m\u001b[1mval: \u001b[0mWARNING  C:\\Users\\HP\\Downloads\\military\\crop\\data\\val\\V22\\a2eec38e660f689ae84071f85fd941a2_0.jpg: ignoring corrupt image/label: image size (9, 20) <10 pixels\n"
     ]
    },
    {
     "name": "stderr",
     "output_type": "stream",
     "text": [
      "\n",
      "               classes   top1_acc   top5_acc: 100%|██████████| 141/141 [01:59<00:00,  1.18it/s]\n"
     ]
    },
    {
     "name": "stdout",
     "output_type": "stream",
     "text": [
      "                   all      0.802      0.926\n",
      "Speed: 0.0ms preprocess, 22.5ms inference, 0.0ms loss, 0.0ms postprocess per image\n",
      "Results saved to \u001b[1mruns\\classify\\val7\u001b[0m\n"
     ]
    },
    {
     "data": {
      "text/plain": [
       "0.9258107542991638"
      ]
     },
     "execution_count": 12,
     "metadata": {},
     "output_type": "execute_result"
    }
   ],
   "source": [
    "model = YOLO(r\"C:\\Users\\HP\\Downloads\\runs\\classify\\train36\\weights\\last.pt\")  # load a custom model\n",
    "\n",
    "# Validate the model\n",
    "metrics = model.val()  # no arguments needed, dataset and settings remembered\n",
    "metrics.top1   # top1 accuracy\n",
    "metrics.top5   # top5 accuracy"
   ]
  },
  {
   "cell_type": "markdown",
   "id": "c8e6c24d-3c00-4821-a3aa-da3d3ef67c6b",
   "metadata": {},
   "source": [
    " <span style=\"font-size: 20px;\">Using the model for prediction</span>\r\n"
   ]
  },
  {
   "cell_type": "code",
   "execution_count": 14,
   "id": "23332a06-15b8-4e64-84aa-a9901af776e6",
   "metadata": {},
   "outputs": [
    {
     "name": "stdout",
     "output_type": "stream",
     "text": [
      "\n",
      "image 1/1 C:\\Users\\HP\\Downloads\\be200.jpg: 64x64 Be200 0.97, AG600 0.01, RQ4 0.00, C2 0.00, F18 0.00, 88.8ms\n",
      "Speed: 5.0ms preprocess, 88.8ms inference, 0.0ms postprocess per image at shape (1, 3, 64, 64)\n",
      "{0: 'A10', 1: 'A400M', 2: 'AG600', 3: 'AV8B', 4: 'B1', 5: 'B2', 6: 'B52', 7: 'Be200', 8: 'C130', 9: 'C17', 10: 'C2', 11: 'C5', 12: 'E2', 13: 'E7', 14: 'EF2000', 15: 'F117', 16: 'F14', 17: 'F15', 18: 'F16', 19: 'F18', 20: 'F22', 21: 'F35', 22: 'F4', 23: 'J10', 24: 'J20', 25: 'JAS39', 26: 'KC135', 27: 'MQ9', 28: 'Mig31', 29: 'Mirage2000', 30: 'P3', 31: 'RQ4', 32: 'Rafale', 33: 'SR71', 34: 'Su24', 35: 'Su25', 36: 'Su34', 37: 'Su57', 38: 'Tornado', 39: 'Tu160', 40: 'Tu95', 41: 'U2', 42: 'US2', 43: 'V22', 44: 'Vulcan', 45: 'XB70', 46: 'YF23'}\n",
      "[2.289739677507896e-05, 5.939741640759166e-06, 0.01365242712199688, 6.819029658799991e-05, 5.449220225273166e-06, 0.00033883965807035565, 8.447499567409977e-05, 0.9707531332969666, 0.00010147049033548683, 9.012045484269038e-05, 0.0022499312181025743, 2.122847581631504e-05, 1.8739030565484427e-05, 3.6875981095363386e-06, 4.430119588505477e-05, 0.0005822129896841943, 1.1237838407396339e-05, 0.0001692233927315101, 0.0003463609900791198, 0.001865890109911561, 1.93693795154104e-05, 0.00014868442667648196, 0.0010471052955836058, 4.821164839086123e-05, 0.000183883064892143, 0.00023509022139478475, 2.838831460394431e-05, 0.0001054020831361413, 1.9917599274776876e-05, 1.3757835404248908e-05, 0.0011336714960634708, 0.002964760409668088, 4.494822496781126e-05, 9.19619997148402e-05, 1.7368056433042511e-06, 4.740807526104618e-06, 1.116764633479761e-05, 0.00016500156198162585, 5.591091758105904e-05, 4.134201390115777e-06, 3.876029950333759e-06, 0.001122264307923615, 0.0005431183963082731, 5.2822761062998325e-06, 2.8898959499201737e-05, 0.00011238337901886553, 0.0014205106999725103]\n",
      "Be200\n",
      "7 %\n"
     ]
    }
   ],
   "source": [
    "model = YOLO(r\"C:\\Users\\HP\\Downloads\\runs\\classify\\train36\\weights\\last.pt\")  # load a custom model\n",
    "\n",
    "results = model(r\"C:\\Users\\HP\\Downloads\\be200.jpg\")  # predict on an image\n",
    "\n",
    "names_dict = results[0].names\n",
    "\n",
    "probs = results[0].probs.data.tolist()\n",
    "\n",
    "print(names_dict)\n",
    "confidence = np.argmax(probs)\n",
    "print(probs)\n",
    "\n",
    "print(names_dict[confidence])\n",
    "print(confidence,\"%\")"
   ]
  },
  {
   "cell_type": "code",
   "execution_count": 2,
   "id": "0e63d74e-716f-48e0-b752-aa747eb82ae9",
   "metadata": {},
   "outputs": [
    {
     "name": "stdout",
     "output_type": "stream",
     "text": [
      "\n",
      "0: 64x64 Be200 0.97, AG600 0.01, RQ4 0.00, C2 0.00, F18 0.00, 74.9ms\n",
      "Speed: 18.9ms preprocess, 74.9ms inference, 0.0ms postprocess per image at shape (1, 3, 64, 64)\n"
     ]
    }
   ],
   "source": [
    "# Load the image (replace with your actual image path)\n",
    "img = cv2.imread(r\"C:\\Users\\HP\\Downloads\\be200.jpg\")\n",
    "\n",
    "# Check if image loading was successful\n",
    "if img is None:\n",
    "    print(\"Error: Could not read image!\")\n",
    "    exit()\n",
    "\n",
    "# Load your custom classification YOLO model (replace with your model path)\n",
    "model = YOLO(\"C:/Users/HP/Downloads/runs/classify/train36/weights/last.pt\")\n",
    "\n",
    "# Make predictions on the image\n",
    "results = model(img)\n",
    "\n",
    "# Assuming results is a list containing a single detection (classification)\n",
    "if len(results) != 1:\n",
    "    print(\"Warning: Unexpected number of detections in results. Only processing the first one.\")\n",
    "\n",
    "# Extract predicted class name and confidence from the first detection\n",
    "names_dict = results[0].names\n",
    "probs = results[0].probs.data.tolist()\n",
    " # Assuming names attribute contains class names\n",
    "predicted_class_name = names_dict[np.argmax(probs)]\n",
    "confidence = np.argmax(probs)  # Assuming conf attribute contains confidence score\n",
    "\n",
    "# Display predicted class and confidence score (modify placement as needed)\n",
    "text = f\"Predicted Class: {predicted_class_name} - Confidence: {confidence:.2f}%\"\n",
    "cv2.putText(img, text, (50, 50), cv2.FONT_HERSHEY_SIMPLEX, 1, (0, 0, 255), 2)\n",
    "\n",
    "# Display the image with prediction\n",
    "cv2.imshow(\"Image with Prediction\", img)\n",
    "cv2.waitKey(0)  # Wait for a key press to close the window\n",
    "cv2.destroyAllWindows()\n"
   ]
  },
  {
   "cell_type": "code",
   "execution_count": null,
   "id": "b6074fa5-7098-46bc-9771-36b2408e043d",
   "metadata": {},
   "outputs": [],
   "source": []
  }
 ],
 "metadata": {
  "kernelspec": {
   "display_name": "Python 3 (ipykernel)",
   "language": "python",
   "name": "python3"
  },
  "language_info": {
   "codemirror_mode": {
    "name": "ipython",
    "version": 3
   },
   "file_extension": ".py",
   "mimetype": "text/x-python",
   "name": "python",
   "nbconvert_exporter": "python",
   "pygments_lexer": "ipython3",
   "version": "3.11.7"
  }
 },
 "nbformat": 4,
 "nbformat_minor": 5
}
